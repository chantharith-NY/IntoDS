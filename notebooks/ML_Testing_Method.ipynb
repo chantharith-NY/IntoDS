{
  "cells": [
    {
      "cell_type": "markdown",
      "metadata": {
        "id": "pYCWF7eNKk38"
      },
      "source": [
        "## Import Dataset"
      ]
    },
    {
      "cell_type": "code",
      "execution_count": 1,
      "metadata": {
        "id": "K0je-4ZnIgtb"
      },
      "outputs": [],
      "source": [
        "import pandas as pd"
      ]
    },
    {
      "cell_type": "code",
      "execution_count": 2,
      "metadata": {
        "id": "fqc3PMBVJMPu"
      },
      "outputs": [],
      "source": [
        "file_path = '/Users/nychanthrith/data-science-project/data/Clean data/cleaned_data_January.csv'\n",
        "data = pd.read_csv(file_path)"
      ]
    },
    {
      "cell_type": "code",
      "execution_count": 3,
      "metadata": {
        "colab": {
          "base_uri": "https://localhost:8080/",
          "height": 652
        },
        "id": "uoFZY0DVJSrx",
        "outputId": "32de4db2-17ca-4b58-c2bd-c74cf26ef89a"
      },
      "outputs": [
        {
          "data": {
            "text/html": [
              "<div>\n",
              "<style scoped>\n",
              "    .dataframe tbody tr th:only-of-type {\n",
              "        vertical-align: middle;\n",
              "    }\n",
              "\n",
              "    .dataframe tbody tr th {\n",
              "        vertical-align: top;\n",
              "    }\n",
              "\n",
              "    .dataframe thead th {\n",
              "        text-align: right;\n",
              "    }\n",
              "</style>\n",
              "<table border=\"1\" class=\"dataframe\">\n",
              "  <thead>\n",
              "    <tr style=\"text-align: right;\">\n",
              "      <th></th>\n",
              "      <th>Index</th>\n",
              "      <th>pH</th>\n",
              "      <th>Iron</th>\n",
              "      <th>Nitrate</th>\n",
              "      <th>Chloride</th>\n",
              "      <th>Lead</th>\n",
              "      <th>Zinc</th>\n",
              "      <th>Color</th>\n",
              "      <th>Turbidity</th>\n",
              "      <th>Fluoride</th>\n",
              "      <th>...</th>\n",
              "      <th>Chlorine</th>\n",
              "      <th>Manganese</th>\n",
              "      <th>Total Dissolved Solids</th>\n",
              "      <th>Source</th>\n",
              "      <th>Water Temperature</th>\n",
              "      <th>Air Temperature</th>\n",
              "      <th>Month</th>\n",
              "      <th>Day</th>\n",
              "      <th>Time of Day</th>\n",
              "      <th>Target</th>\n",
              "    </tr>\n",
              "  </thead>\n",
              "  <tbody>\n",
              "    <tr>\n",
              "      <th>0</th>\n",
              "      <td>2</td>\n",
              "      <td>5.443762</td>\n",
              "      <td>1.744843e-02</td>\n",
              "      <td>1.572150</td>\n",
              "      <td>5.446719</td>\n",
              "      <td>5.290000e-76</td>\n",
              "      <td>0.424143</td>\n",
              "      <td>1</td>\n",
              "      <td>0.184143</td>\n",
              "      <td>0.353065</td>\n",
              "      <td>...</td>\n",
              "      <td>1.886856</td>\n",
              "      <td>3.797756e-02</td>\n",
              "      <td>570.054094</td>\n",
              "      <td>1</td>\n",
              "      <td>2.537141</td>\n",
              "      <td>44.891330</td>\n",
              "      <td>January</td>\n",
              "      <td>31.0</td>\n",
              "      <td>8.0</td>\n",
              "      <td>0</td>\n",
              "    </tr>\n",
              "    <tr>\n",
              "      <th>1</th>\n",
              "      <td>52</td>\n",
              "      <td>8.460833</td>\n",
              "      <td>1.726643e-02</td>\n",
              "      <td>2.261920</td>\n",
              "      <td>4.906773</td>\n",
              "      <td>1.170000e-256</td>\n",
              "      <td>1.281136</td>\n",
              "      <td>2</td>\n",
              "      <td>0.158578</td>\n",
              "      <td>0.416052</td>\n",
              "      <td>...</td>\n",
              "      <td>1.579333</td>\n",
              "      <td>5.709999e-10</td>\n",
              "      <td>13.925614</td>\n",
              "      <td>2</td>\n",
              "      <td>2.153062</td>\n",
              "      <td>82.674304</td>\n",
              "      <td>January</td>\n",
              "      <td>2.0</td>\n",
              "      <td>23.0</td>\n",
              "      <td>0</td>\n",
              "    </tr>\n",
              "    <tr>\n",
              "      <th>2</th>\n",
              "      <td>64</td>\n",
              "      <td>8.194406</td>\n",
              "      <td>3.304849e-03</td>\n",
              "      <td>2.234792</td>\n",
              "      <td>5.517628</td>\n",
              "      <td>2.410000e-71</td>\n",
              "      <td>1.096523</td>\n",
              "      <td>3</td>\n",
              "      <td>0.018634</td>\n",
              "      <td>0.304331</td>\n",
              "      <td>...</td>\n",
              "      <td>1.944491</td>\n",
              "      <td>2.219495e-05</td>\n",
              "      <td>297.621227</td>\n",
              "      <td>3</td>\n",
              "      <td>2.820591</td>\n",
              "      <td>35.653137</td>\n",
              "      <td>January</td>\n",
              "      <td>2.0</td>\n",
              "      <td>19.0</td>\n",
              "      <td>0</td>\n",
              "    </tr>\n",
              "    <tr>\n",
              "      <th>3</th>\n",
              "      <td>90</td>\n",
              "      <td>5.812626</td>\n",
              "      <td>1.061085e-04</td>\n",
              "      <td>1.394378</td>\n",
              "      <td>5.298739</td>\n",
              "      <td>4.120000e-114</td>\n",
              "      <td>0.668546</td>\n",
              "      <td>2</td>\n",
              "      <td>0.329479</td>\n",
              "      <td>0.028763</td>\n",
              "      <td>...</td>\n",
              "      <td>1.540985</td>\n",
              "      <td>5.108170e-02</td>\n",
              "      <td>188.786881</td>\n",
              "      <td>4</td>\n",
              "      <td>2.381271</td>\n",
              "      <td>41.814583</td>\n",
              "      <td>January</td>\n",
              "      <td>8.0</td>\n",
              "      <td>0.0</td>\n",
              "      <td>0</td>\n",
              "    </tr>\n",
              "    <tr>\n",
              "      <th>4</th>\n",
              "      <td>116</td>\n",
              "      <td>6.806017</td>\n",
              "      <td>7.272805e-02</td>\n",
              "      <td>2.039388</td>\n",
              "      <td>4.598857</td>\n",
              "      <td>2.420000e-90</td>\n",
              "      <td>1.663742</td>\n",
              "      <td>3</td>\n",
              "      <td>0.070714</td>\n",
              "      <td>0.404988</td>\n",
              "      <td>...</td>\n",
              "      <td>1.777328</td>\n",
              "      <td>6.074994e-03</td>\n",
              "      <td>479.485597</td>\n",
              "      <td>1</td>\n",
              "      <td>2.853797</td>\n",
              "      <td>74.757185</td>\n",
              "      <td>January</td>\n",
              "      <td>5.0</td>\n",
              "      <td>12.0</td>\n",
              "      <td>0</td>\n",
              "    </tr>\n",
              "    <tr>\n",
              "      <th>...</th>\n",
              "      <td>...</td>\n",
              "      <td>...</td>\n",
              "      <td>...</td>\n",
              "      <td>...</td>\n",
              "      <td>...</td>\n",
              "      <td>...</td>\n",
              "      <td>...</td>\n",
              "      <td>...</td>\n",
              "      <td>...</td>\n",
              "      <td>...</td>\n",
              "      <td>...</td>\n",
              "      <td>...</td>\n",
              "      <td>...</td>\n",
              "      <td>...</td>\n",
              "      <td>...</td>\n",
              "      <td>...</td>\n",
              "      <td>...</td>\n",
              "      <td>...</td>\n",
              "      <td>...</td>\n",
              "      <td>...</td>\n",
              "      <td>...</td>\n",
              "    </tr>\n",
              "    <tr>\n",
              "      <th>59785</th>\n",
              "      <td>1048529</td>\n",
              "      <td>7.786804</td>\n",
              "      <td>6.998581e-02</td>\n",
              "      <td>1.711585</td>\n",
              "      <td>5.392050</td>\n",
              "      <td>2.670000e-198</td>\n",
              "      <td>0.649898</td>\n",
              "      <td>3</td>\n",
              "      <td>0.000383</td>\n",
              "      <td>0.941883</td>\n",
              "      <td>...</td>\n",
              "      <td>2.031307</td>\n",
              "      <td>2.839999e-10</td>\n",
              "      <td>100.008291</td>\n",
              "      <td>3</td>\n",
              "      <td>2.856463</td>\n",
              "      <td>77.623536</td>\n",
              "      <td>January</td>\n",
              "      <td>11.0</td>\n",
              "      <td>22.0</td>\n",
              "      <td>0</td>\n",
              "    </tr>\n",
              "    <tr>\n",
              "      <th>59786</th>\n",
              "      <td>1048540</td>\n",
              "      <td>7.949245</td>\n",
              "      <td>4.639998e-08</td>\n",
              "      <td>1.222226</td>\n",
              "      <td>5.124759</td>\n",
              "      <td>4.160000e-93</td>\n",
              "      <td>0.005463</td>\n",
              "      <td>3</td>\n",
              "      <td>0.000394</td>\n",
              "      <td>0.159728</td>\n",
              "      <td>...</td>\n",
              "      <td>1.966285</td>\n",
              "      <td>2.080003e-11</td>\n",
              "      <td>463.738017</td>\n",
              "      <td>6</td>\n",
              "      <td>2.673157</td>\n",
              "      <td>63.273387</td>\n",
              "      <td>January</td>\n",
              "      <td>18.0</td>\n",
              "      <td>12.0</td>\n",
              "      <td>0</td>\n",
              "    </tr>\n",
              "    <tr>\n",
              "      <th>59787</th>\n",
              "      <td>1048554</td>\n",
              "      <td>7.228452</td>\n",
              "      <td>7.081002e-13</td>\n",
              "      <td>2.033834</td>\n",
              "      <td>4.988131</td>\n",
              "      <td>4.110000e-139</td>\n",
              "      <td>0.890923</td>\n",
              "      <td>2</td>\n",
              "      <td>0.216198</td>\n",
              "      <td>0.783007</td>\n",
              "      <td>...</td>\n",
              "      <td>1.481023</td>\n",
              "      <td>2.441092e-03</td>\n",
              "      <td>421.057598</td>\n",
              "      <td>1</td>\n",
              "      <td>2.620322</td>\n",
              "      <td>56.691924</td>\n",
              "      <td>January</td>\n",
              "      <td>10.0</td>\n",
              "      <td>4.0</td>\n",
              "      <td>0</td>\n",
              "    </tr>\n",
              "    <tr>\n",
              "      <th>59788</th>\n",
              "      <td>1048562</td>\n",
              "      <td>6.749023</td>\n",
              "      <td>2.859994e-07</td>\n",
              "      <td>1.861213</td>\n",
              "      <td>5.037623</td>\n",
              "      <td>1.130000e-69</td>\n",
              "      <td>0.062389</td>\n",
              "      <td>3</td>\n",
              "      <td>0.286575</td>\n",
              "      <td>0.824672</td>\n",
              "      <td>...</td>\n",
              "      <td>1.522859</td>\n",
              "      <td>7.901708e-03</td>\n",
              "      <td>12.503163</td>\n",
              "      <td>3</td>\n",
              "      <td>2.978230</td>\n",
              "      <td>50.339735</td>\n",
              "      <td>January</td>\n",
              "      <td>17.0</td>\n",
              "      <td>13.0</td>\n",
              "      <td>0</td>\n",
              "    </tr>\n",
              "    <tr>\n",
              "      <th>59789</th>\n",
              "      <td>1048566</td>\n",
              "      <td>7.922532</td>\n",
              "      <td>1.669081e-02</td>\n",
              "      <td>1.175510</td>\n",
              "      <td>5.112633</td>\n",
              "      <td>6.280000e-131</td>\n",
              "      <td>1.390751</td>\n",
              "      <td>5</td>\n",
              "      <td>0.240063</td>\n",
              "      <td>0.707803</td>\n",
              "      <td>...</td>\n",
              "      <td>1.778350</td>\n",
              "      <td>2.864717e-02</td>\n",
              "      <td>412.149003</td>\n",
              "      <td>8</td>\n",
              "      <td>2.747591</td>\n",
              "      <td>81.806878</td>\n",
              "      <td>January</td>\n",
              "      <td>20.0</td>\n",
              "      <td>21.0</td>\n",
              "      <td>0</td>\n",
              "    </tr>\n",
              "  </tbody>\n",
              "</table>\n",
              "<p>59790 rows × 24 columns</p>\n",
              "</div>"
            ],
            "text/plain": [
              "         Index        pH          Iron   Nitrate  Chloride           Lead  \\\n",
              "0            2  5.443762  1.744843e-02  1.572150  5.446719   5.290000e-76   \n",
              "1           52  8.460833  1.726643e-02  2.261920  4.906773  1.170000e-256   \n",
              "2           64  8.194406  3.304849e-03  2.234792  5.517628   2.410000e-71   \n",
              "3           90  5.812626  1.061085e-04  1.394378  5.298739  4.120000e-114   \n",
              "4          116  6.806017  7.272805e-02  2.039388  4.598857   2.420000e-90   \n",
              "...        ...       ...           ...       ...       ...            ...   \n",
              "59785  1048529  7.786804  6.998581e-02  1.711585  5.392050  2.670000e-198   \n",
              "59786  1048540  7.949245  4.639998e-08  1.222226  5.124759   4.160000e-93   \n",
              "59787  1048554  7.228452  7.081002e-13  2.033834  4.988131  4.110000e-139   \n",
              "59788  1048562  6.749023  2.859994e-07  1.861213  5.037623   1.130000e-69   \n",
              "59789  1048566  7.922532  1.669081e-02  1.175510  5.112633  6.280000e-131   \n",
              "\n",
              "           Zinc  Color  Turbidity  Fluoride  ...  Chlorine     Manganese  \\\n",
              "0      0.424143      1   0.184143  0.353065  ...  1.886856  3.797756e-02   \n",
              "1      1.281136      2   0.158578  0.416052  ...  1.579333  5.709999e-10   \n",
              "2      1.096523      3   0.018634  0.304331  ...  1.944491  2.219495e-05   \n",
              "3      0.668546      2   0.329479  0.028763  ...  1.540985  5.108170e-02   \n",
              "4      1.663742      3   0.070714  0.404988  ...  1.777328  6.074994e-03   \n",
              "...         ...    ...        ...       ...  ...       ...           ...   \n",
              "59785  0.649898      3   0.000383  0.941883  ...  2.031307  2.839999e-10   \n",
              "59786  0.005463      3   0.000394  0.159728  ...  1.966285  2.080003e-11   \n",
              "59787  0.890923      2   0.216198  0.783007  ...  1.481023  2.441092e-03   \n",
              "59788  0.062389      3   0.286575  0.824672  ...  1.522859  7.901708e-03   \n",
              "59789  1.390751      5   0.240063  0.707803  ...  1.778350  2.864717e-02   \n",
              "\n",
              "       Total Dissolved Solids  Source  Water Temperature  Air Temperature  \\\n",
              "0                  570.054094       1           2.537141        44.891330   \n",
              "1                   13.925614       2           2.153062        82.674304   \n",
              "2                  297.621227       3           2.820591        35.653137   \n",
              "3                  188.786881       4           2.381271        41.814583   \n",
              "4                  479.485597       1           2.853797        74.757185   \n",
              "...                       ...     ...                ...              ...   \n",
              "59785              100.008291       3           2.856463        77.623536   \n",
              "59786              463.738017       6           2.673157        63.273387   \n",
              "59787              421.057598       1           2.620322        56.691924   \n",
              "59788               12.503163       3           2.978230        50.339735   \n",
              "59789              412.149003       8           2.747591        81.806878   \n",
              "\n",
              "         Month   Day  Time of Day  Target  \n",
              "0      January  31.0          8.0       0  \n",
              "1      January   2.0         23.0       0  \n",
              "2      January   2.0         19.0       0  \n",
              "3      January   8.0          0.0       0  \n",
              "4      January   5.0         12.0       0  \n",
              "...        ...   ...          ...     ...  \n",
              "59785  January  11.0         22.0       0  \n",
              "59786  January  18.0         12.0       0  \n",
              "59787  January  10.0          4.0       0  \n",
              "59788  January  17.0         13.0       0  \n",
              "59789  January  20.0         21.0       0  \n",
              "\n",
              "[59790 rows x 24 columns]"
            ]
          },
          "execution_count": 3,
          "metadata": {},
          "output_type": "execute_result"
        }
      ],
      "source": [
        "data"
      ]
    },
    {
      "cell_type": "markdown",
      "metadata": {
        "id": "ZAwtiAiKKq-Y"
      },
      "source": [
        "## Library for predicting the method to use for ML"
      ]
    },
    {
      "cell_type": "code",
      "execution_count": 5,
      "metadata": {
        "id": "0AcE9QAdJTw_"
      },
      "outputs": [],
      "source": [
        "from sklearn.model_selection import train_test_split, cross_val_score\n",
        "from sklearn.linear_model import LinearRegression\n",
        "from sklearn.tree import DecisionTreeRegressor\n",
        "from sklearn.ensemble import RandomForestRegressor\n",
        "from sklearn.neighbors import KNeighborsRegressor\n",
        "from sklearn.metrics import mean_squared_error, r2_score\n",
        "from xgboost import XGBRegressor\n",
        "import numpy as np"
      ]
    },
    {
      "cell_type": "markdown",
      "metadata": {
        "id": "NQKbXl7bKxEK"
      },
      "source": [
        "### Drop the column which didn't make sense with data"
      ]
    },
    {
      "cell_type": "code",
      "execution_count": 6,
      "metadata": {
        "id": "5uaxV992Jgbi"
      },
      "outputs": [],
      "source": [
        "X = data.drop(columns=['Target', 'Month', 'Source'])\n",
        "y = data['Target']"
      ]
    },
    {
      "cell_type": "code",
      "execution_count": null,
      "metadata": {},
      "outputs": [],
      "source": []
    },
    {
      "cell_type": "markdown",
      "metadata": {
        "id": "R1CjTxv-K4ip"
      },
      "source": [
        "### Train data"
      ]
    },
    {
      "cell_type": "code",
      "execution_count": 7,
      "metadata": {
        "id": "VYzoQHa0J2nL"
      },
      "outputs": [],
      "source": [
        "X_train, X_test, y_train, y_test = train_test_split(X, y, test_size=0.2, random_state=42)"
      ]
    },
    {
      "cell_type": "markdown",
      "metadata": {
        "id": "5OmcrUo-K67F"
      },
      "source": [
        "### Testing all model data for do the ML"
      ]
    },
    {
      "cell_type": "code",
      "execution_count": 8,
      "metadata": {
        "id": "qJwbt8uDJ9YG"
      },
      "outputs": [],
      "source": [
        "models = {\n",
        "    'Linear Regression': LinearRegression(),\n",
        "    'Decision Tree': DecisionTreeRegressor(),\n",
        "    'Random Forest': RandomForestRegressor(n_estimators=100, random_state=42),\n",
        "    'K-Nearest Neighbors': KNeighborsRegressor(n_neighbors=5),\n",
        "    'XGBoost': XGBRegressor(objective='reg:squarederror', random_state=42)\n",
        "}"
      ]
    },
    {
      "cell_type": "code",
      "execution_count": 9,
      "metadata": {
        "id": "DWrwrwLdKPjT"
      },
      "outputs": [],
      "source": [
        "cv_scores = {}\n",
        "for model_name, model in models.items():\n",
        "    scores = cross_val_score(model, X_train, y_train, cv=5, scoring='r2')\n",
        "    cv_scores[model_name] = np.mean(scores)"
      ]
    },
    {
      "cell_type": "code",
      "execution_count": 10,
      "metadata": {
        "id": "2TDFLer2KbEH"
      },
      "outputs": [
        {
          "name": "stdout",
          "output_type": "stream",
          "text": [
            "Linear Regression: Mean Rˆ2 Score = 0.2233\n",
            "Decision Tree: Mean Rˆ2 Score = 0.9800\n",
            "Random Forest: Mean Rˆ2 Score = 0.9819\n",
            "K-Nearest Neighbors: Mean Rˆ2 Score = 0.9986\n",
            "XGBoost: Mean Rˆ2 Score = 0.9778\n"
          ]
        }
      ],
      "source": [
        "for model_name, score in cv_scores.items():\n",
        "    print(f'{model_name}: Mean Rˆ2 Score = {score:.4f}')"
      ]
    },
    {
      "cell_type": "markdown",
      "metadata": {
        "id": "AfYf5652KjwX"
      },
      "source": []
    }
  ],
  "metadata": {
    "colab": {
      "provenance": []
    },
    "kernelspec": {
      "display_name": "venv",
      "language": "python",
      "name": "python3"
    },
    "language_info": {
      "codemirror_mode": {
        "name": "ipython",
        "version": 3
      },
      "file_extension": ".py",
      "mimetype": "text/x-python",
      "name": "python",
      "nbconvert_exporter": "python",
      "pygments_lexer": "ipython3",
      "version": "3.12.4"
    }
  },
  "nbformat": 4,
  "nbformat_minor": 0
}
